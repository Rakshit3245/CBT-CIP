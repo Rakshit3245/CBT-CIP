{
  "nbformat": 4,
  "nbformat_minor": 0,
  "metadata": {
    "colab": {
      "provenance": []
    },
    "kernelspec": {
      "name": "python3",
      "display_name": "Python 3"
    },
    "language_info": {
      "name": "python"
    }
  },
  "cells": [
    {
      "cell_type": "code",
      "execution_count": 1,
      "metadata": {
        "colab": {
          "base_uri": "https://localhost:8080/"
        },
        "id": "2wg3BmcHYMbp",
        "outputId": "4816a1fd-3731-46a0-b238-6c4fe83813ef"
      },
      "outputs": [
        {
          "output_type": "stream",
          "name": "stdout",
          "text": [
            "Choose rock, paper, or scissors: paper\n",
            "You chose: paper\n",
            "Computer chose: scissors\n",
            "Computer wins!\n"
          ]
        }
      ],
      "source": [
        "import random\n",
        "\n",
        "def get_user_choice():\n",
        "    user_choice = input(\"Choose rock, paper, or scissors: \")\n",
        "    while user_choice not in [\"rock\", \"paper\", \"scissors\"]:\n",
        "        user_choice = input(\"Invalid choice. Choose rock, paper, or scissors: \")\n",
        "    return user_choice\n",
        "\n",
        "def get_computer_choice():\n",
        "    computer_choice = random.choice([\"rock\", \"paper\", \"scissors\"])\n",
        "    return computer_choice\n",
        "\n",
        "def determine_winner(user_choice, computer_choice):\n",
        "    if user_choice == computer_choice:\n",
        "        return \"Tie\"\n",
        "    elif user_choice == \"rock\":\n",
        "        if computer_choice == \"scissors\":\n",
        "            return \"User wins!\"\n",
        "        else:\n",
        "            return \"Computer wins!\"\n",
        "    elif user_choice == \"paper\":\n",
        "        if computer_choice == \"rock\":\n",
        "            return \"User wins!\"\n",
        "        else:\n",
        "            return \"Computer wins!\"\n",
        "    elif user_choice == \"scissors\":\n",
        "        if computer_choice == \"paper\":\n",
        "            return \"User wins!\"\n",
        "        else:\n",
        "            return \"Computer wins!\"\n",
        "\n",
        "def display_results(user_choice, computer_choice, winner):\n",
        "    print(\"You chose:\", user_choice)\n",
        "    print(\"Computer chose:\", computer_choice)\n",
        "    print(winner)\n",
        "\n",
        "if __name__ == \"__main__\":\n",
        "    user_choice = get_user_choice()\n",
        "    computer_choice = get_computer_choice()\n",
        "    winner = determine_winner(user_choice, computer_choice)\n",
        "    display_results(user_choice, computer_choice, winner)\n"
      ]
    }
  ]
}