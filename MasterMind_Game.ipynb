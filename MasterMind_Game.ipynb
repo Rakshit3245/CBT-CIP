{
  "nbformat": 4,
  "nbformat_minor": 0,
  "metadata": {
    "colab": {
      "provenance": []
    },
    "kernelspec": {
      "name": "python3",
      "display_name": "Python 3"
    },
    "language_info": {
      "name": "python"
    }
  },
  "cells": [
    {
      "cell_type": "markdown",
      "source": [
        "# MasterMind **Game**"
      ],
      "metadata": {
        "id": "9zGFPU6USu24"
      }
    },
    {
      "cell_type": "code",
      "execution_count": 32,
      "metadata": {
        "colab": {
          "base_uri": "https://localhost:8080/",
          "height": 511
        },
        "id": "F-LBQXKlwOFz",
        "outputId": "50b34f50-5ea0-4498-95a8-5a38cb69ba77"
      },
      "outputs": [
        {
          "output_type": "stream",
          "name": "stdout",
          "text": [
            "Lets begin the game\n",
            "\n",
            "Player 1 will set a 4-digit number in the mind, and Player 2 will guess.\n",
            "\n",
            "- denotes the digit/s doesn't exist only in the number\n",
            "X denotes the digit/s exist but not in correct position\n",
            "0 denotes the digit/s is in the correct position\n"
          ]
        },
        {
          "output_type": "error",
          "ename": "KeyboardInterrupt",
          "evalue": "ignored",
          "traceback": [
            "\u001b[0;31m---------------------------------------------------------------------------\u001b[0m",
            "\u001b[0;31mKeyboardInterrupt\u001b[0m                         Traceback (most recent call last)",
            "\u001b[0;32m<ipython-input-32-27cbc0f85b58>\u001b[0m in \u001b[0;36m<cell line: 15>\u001b[0;34m()\u001b[0m\n\u001b[1;32m     15\u001b[0m \u001b[0;32mwhile\u001b[0m \u001b[0;32mTrue\u001b[0m\u001b[0;34m:\u001b[0m\u001b[0;34m\u001b[0m\u001b[0;34m\u001b[0m\u001b[0m\n\u001b[1;32m     16\u001b[0m     \u001b[0;31m# Player 2 makes a guess :\u001b[0m\u001b[0;34m\u001b[0m\u001b[0;34m\u001b[0m\u001b[0m\n\u001b[0;32m---> 17\u001b[0;31m     \u001b[0mg2\u001b[0m \u001b[0;34m=\u001b[0m \u001b[0minput\u001b[0m\u001b[0;34m(\u001b[0m\u001b[0;34mf\"\\nPlayer 2, enter your {n}-digit guess: \"\u001b[0m\u001b[0;34m)\u001b[0m\u001b[0;34m\u001b[0m\u001b[0;34m\u001b[0m\u001b[0m\n\u001b[0m\u001b[1;32m     18\u001b[0m     \u001b[0ma2\u001b[0m \u001b[0;34m+=\u001b[0m \u001b[0;36m1\u001b[0m\u001b[0;34m\u001b[0m\u001b[0;34m\u001b[0m\u001b[0m\n\u001b[1;32m     19\u001b[0m     \u001b[0;31m# player 2 guesses Correctly\u001b[0m\u001b[0;34m\u001b[0m\u001b[0;34m\u001b[0m\u001b[0m\n",
            "\u001b[0;32m/usr/local/lib/python3.10/dist-packages/ipykernel/kernelbase.py\u001b[0m in \u001b[0;36mraw_input\u001b[0;34m(self, prompt)\u001b[0m\n\u001b[1;32m    849\u001b[0m                 \u001b[0;34m\"raw_input was called, but this frontend does not support input requests.\"\u001b[0m\u001b[0;34m\u001b[0m\u001b[0;34m\u001b[0m\u001b[0m\n\u001b[1;32m    850\u001b[0m             )\n\u001b[0;32m--> 851\u001b[0;31m         return self._input_request(str(prompt),\n\u001b[0m\u001b[1;32m    852\u001b[0m             \u001b[0mself\u001b[0m\u001b[0;34m.\u001b[0m\u001b[0m_parent_ident\u001b[0m\u001b[0;34m,\u001b[0m\u001b[0;34m\u001b[0m\u001b[0;34m\u001b[0m\u001b[0m\n\u001b[1;32m    853\u001b[0m             \u001b[0mself\u001b[0m\u001b[0;34m.\u001b[0m\u001b[0m_parent_header\u001b[0m\u001b[0;34m,\u001b[0m\u001b[0;34m\u001b[0m\u001b[0;34m\u001b[0m\u001b[0m\n",
            "\u001b[0;32m/usr/local/lib/python3.10/dist-packages/ipykernel/kernelbase.py\u001b[0m in \u001b[0;36m_input_request\u001b[0;34m(self, prompt, ident, parent, password)\u001b[0m\n\u001b[1;32m    893\u001b[0m             \u001b[0;32mexcept\u001b[0m \u001b[0mKeyboardInterrupt\u001b[0m\u001b[0;34m:\u001b[0m\u001b[0;34m\u001b[0m\u001b[0;34m\u001b[0m\u001b[0m\n\u001b[1;32m    894\u001b[0m                 \u001b[0;31m# re-raise KeyboardInterrupt, to truncate traceback\u001b[0m\u001b[0;34m\u001b[0m\u001b[0;34m\u001b[0m\u001b[0m\n\u001b[0;32m--> 895\u001b[0;31m                 \u001b[0;32mraise\u001b[0m \u001b[0mKeyboardInterrupt\u001b[0m\u001b[0;34m(\u001b[0m\u001b[0;34m\"Interrupted by user\"\u001b[0m\u001b[0;34m)\u001b[0m \u001b[0;32mfrom\u001b[0m \u001b[0;32mNone\u001b[0m\u001b[0;34m\u001b[0m\u001b[0;34m\u001b[0m\u001b[0m\n\u001b[0m\u001b[1;32m    896\u001b[0m             \u001b[0;32mexcept\u001b[0m \u001b[0mException\u001b[0m \u001b[0;32mas\u001b[0m \u001b[0me\u001b[0m\u001b[0;34m:\u001b[0m\u001b[0;34m\u001b[0m\u001b[0;34m\u001b[0m\u001b[0m\n\u001b[1;32m    897\u001b[0m                 \u001b[0mself\u001b[0m\u001b[0;34m.\u001b[0m\u001b[0mlog\u001b[0m\u001b[0;34m.\u001b[0m\u001b[0mwarning\u001b[0m\u001b[0;34m(\u001b[0m\u001b[0;34m\"Invalid Message:\"\u001b[0m\u001b[0;34m,\u001b[0m \u001b[0mexc_info\u001b[0m\u001b[0;34m=\u001b[0m\u001b[0;32mTrue\u001b[0m\u001b[0;34m)\u001b[0m\u001b[0;34m\u001b[0m\u001b[0;34m\u001b[0m\u001b[0m\n",
            "\u001b[0;31mKeyboardInterrupt\u001b[0m: Interrupted by user"
          ]
        }
      ],
      "source": [
        "import random\n",
        "def generate_number(n):\n",
        "     x=''.join(random.choice('0123456789') for _ in range(n))\n",
        "     return x\n",
        "# game begins\n",
        "n = 4\n",
        "print(\"Lets begin the game\")\n",
        "print(f\"\\nPlayer 1 will set a {n}-digit number in the mind, and Player 2 will guess.\")\n",
        "print(\"\\n- denotes the digit/s doesn't exist only in the number\")\n",
        "print(\"X denotes the digit/s exist but not in correct position\")\n",
        "print(\"0 denotes the digit/s is in the correct position\")\n",
        "# Player 1 sets the secret number\n",
        "s1 = generate_number(n)\n",
        "a2 = 0\n",
        "while True:\n",
        "    # Player 2 makes a guess :\n",
        "    g2 = input(f\"\\nPlayer 2, enter your {n}-digit guess: \")\n",
        "    a2 += 1\n",
        "    # player 2 guesses Correctly\n",
        "    if g2 == s1:\n",
        "        print(\"\\nCongratulations, Player 2! You guessed the number {} correctly in {} attempts.\".format(s1, a2))\n",
        "        break\n",
        "    # player 2 guesses the number wrong\n",
        "    if len(s1) != len(g2):\n",
        "        print(f'\\nWrong Guess ! Please guess a {len(s1)}-digit number.')\n",
        "    else:\n",
        "        hint = ''\n",
        "        for i in range(len(s1)):\n",
        "            if s1[i] == g2[i]:\n",
        "                hint += 'O'\n",
        "            elif g2[i] in s1:\n",
        "                hint += 'X'\n",
        "            else:\n",
        "                hint += '-'\n",
        "        print(\"Hint: {}\".format(hint))\n",
        "print(\"\\nNow, Player 2 will set the number in the mind , and Player 1 will guess.\")\n",
        "# Player 2 sets the secret number\n",
        "s2 = generate_number(n)\n",
        "a1 = 0\n",
        "while True:\n",
        "    # Player 1 makes a guess\n",
        "    g1 = input(f\"\\nPlayer 1, enter your {n}-digit guess: \")\n",
        "    a1 += 1\n",
        "    # Player 1 guesses the number correctly\n",
        "    if g1 == s2:\n",
        "        print(\"\\nCongratulations, Player 1! You guessed the number {} correctly in {} attempts.\".format(s2, a1))\n",
        "        break\n",
        "    if len(s2) != len(g1):\n",
        "        print(f'\\nInvalid guess length. Please guess a {len(s2)}-digit number.')\n",
        "    else:\n",
        "        hint = ''\n",
        "        for i in range(len(s2)):\n",
        "            if s2[i] == g1[i]:\n",
        "                hint += 'O'\n",
        "            elif g1[i] in s2:\n",
        "                hint += 'X'\n",
        "            else:\n",
        "                hint += '-'\n",
        "        print(\"Hint: {}\".format(hint))\n",
        "# To decide who won the game at the end\n",
        "if a1 < a2:\n",
        "    print(\"\\nPlayer 1 is crowned Mastermind! Guessed the number in fewer attempts.\")\n",
        "elif a1 > a2:\n",
        "    print(\"\\nPlayer 2 is crowned Mastermind! guessed the number in fewer attempts.\")\n",
        "else:\n",
        "    print(\"\\nIt's a tie! Both players guessed the number in the same number of attempts.\")"
      ]
    }
  ]
}